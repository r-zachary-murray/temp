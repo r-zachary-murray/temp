{
 "cells": [
  {
   "cell_type": "code",
   "execution_count": 1,
   "id": "e7c644f8-39d0-461c-97e5-24851d4e9ad9",
   "metadata": {},
   "outputs": [],
   "source": [
    "import rebound\n",
    "import numpy as np\n",
    "import matplotlib.pyplot as plt\n",
    "import ctypes"
   ]
  },
  {
   "cell_type": "code",
   "execution_count": 2,
   "id": "c49562f2-a18b-424c-bb51-e7b7f9f2cd56",
   "metadata": {},
   "outputs": [],
   "source": [
    "def collision_print_only(sim_pointer, collision):\n",
    "    sim = sim_pointer.contents           # get simulation object from pointer\n",
    "    print(\"Collsion between particle \",sim.particles[collision.p1].hash, \" and \",sim.particles[collision.p2].hash, \" at time \", sim.t)\n",
    "    return 0                             # Don't remove either particle"
   ]
  },
  {
   "cell_type": "code",
   "execution_count": 3,
   "id": "c3642428-54d0-47d9-b980-14ad9cc1a43c",
   "metadata": {},
   "outputs": [],
   "source": [
    "sim = rebound.Simulation()\n",
    "sim.units = ('days', 'AU', 'Msun')\n",
    "sim.collision = \"direct\" #let's use the direct module instead\n",
    "sim.collision_resolve = collision_print_only #since this is just an example we'll just print"
   ]
  },
  {
   "cell_type": "code",
   "execution_count": 4,
   "id": "b0061a6b-adb0-456c-94f7-1412b5b27aa1",
   "metadata": {},
   "outputs": [],
   "source": [
    "#some random coordinates\n",
    "sim.add(m=0.9999999999950272, x=3.952450550008535e-10, y=-4.5210848247014684e-08, z=-2.4191884607322953e-08, vx=5.607482331827943e-09, vy=8.611469178073646e-11, vz=-5.353390795544032e-10,hash=ctypes.c_uint32(0))\n",
    "sim.add(m=1.6601208254808336e-07, x=-0.0023808210167991814, y=0.2723346852395727, z=0.14572363791722046, vx=-0.03377755549916364, vy=-0.0005187254473169726, vz=0.0032246994997903533,hash=ctypes.c_uint32(1))\n",
    "sim.add(m=0.0, x=1.918535547938456, y=1.0202043609881077, z=0.39500771722543376, vx=-0.005704092597420714, vy=0.00993574111221581, vz=0.002818534013464565,hash=ctypes.c_uint32(2))\n",
    "sim.add(m=0.0, x=0.9929363512930693, y=2.0042653483032558, z=1.5111816412021715, vx=-0.008866233338063552, vy=0.00465516807369688, vz=0.002399918295720949,hash=ctypes.c_uint32(3))"
   ]
  },
  {
   "cell_type": "code",
   "execution_count": 5,
   "id": "c9d44354-5bf5-417a-9e92-6d8250f1d58d",
   "metadata": {},
   "outputs": [],
   "source": [
    "sim.N_active = 2 #only the massive particles need to be active, note they are added in the right order (before test particles)\n",
    "sim.integrator = 'ias15'"
   ]
  },
  {
   "cell_type": "code",
   "execution_count": 6,
   "id": "87448622-61c5-4409-97c4-906213f0bea4",
   "metadata": {},
   "outputs": [],
   "source": [
    "tmax=660 #run integration\n",
    "times = np.arange(0,tmax,1e-1)\n",
    "Nout = len(times)\n",
    "xs = np.zeros((sim.N,Nout))\n",
    "ys = np.zeros((sim.N,Nout))\n",
    "ps = sim.particles\n",
    "for i,time in enumerate(times):\n",
    "    sim.integrate(time)\n",
    "    for j in range(sim.N):\n",
    "        hashval = ps[j].hash.value\n",
    "        xs[hashval][i] = ps[j].x \n",
    "        ys[hashval][i] = ps[j].y \n",
    "    "
   ]
  },
  {
   "cell_type": "code",
   "execution_count": 7,
   "id": "80188fb2-000e-4ebe-8c0b-c9b035bbbabc",
   "metadata": {},
   "outputs": [
    {
     "data": {
      "text/plain": [
       "(-5.0, 5.0)"
      ]
     },
     "execution_count": 7,
     "metadata": {},
     "output_type": "execute_result"
    },
    {
     "data": {
      "image/png": "[encoded data removed]",
      "text/plain": [
       "<Figure size 432x288 with 1 Axes>"
      ]
     },
     "metadata": {
      "needs_background": "light"
     },
     "output_type": "display_data"
    }
   ],
   "source": [
    "for i in range(len(xs)):        \n",
    "    plt.scatter(xs[i],ys[i],s=1,zorder=1)\n",
    "plt.axis('equal')\n",
    "plt.xlim(-5,5)\n",
    "plt.ylim(-5,5)"
   ]
  },
  {
   "cell_type": "markdown",
   "id": "4a188da8-3df1-49ac-bf92-25733e80c7ef",
   "metadata": {},
   "source": [
    "## Orbits seem sensible!"
   ]
  },
  {
   "cell_type": "code",
   "execution_count": 8,
   "id": "0c7a6887-5659-4d59-8e9f-bc8a19fd4226",
   "metadata": {},
   "outputs": [
    {
     "data": {
      "text/plain": [
       "'3.8.13 (default, Apr 19 2022, 00:53:22) \\n[GCC 7.5.0]'"
      ]
     },
     "execution_count": 8,
     "metadata": {},
     "output_type": "execute_result"
    }
   ],
   "source": [
    "#other information\n",
    "import sys\n",
    "\n",
    "sys.version"
   ]
  },
  {
   "cell_type": "code",
   "execution_count": 9,
   "id": "a07a26bd-f0f3-4f2c-8263-92c871d02f76",
   "metadata": {},
   "outputs": [
    {
     "data": {
      "text/plain": [
       "'3.19.3'"
      ]
     },
     "execution_count": 9,
     "metadata": {},
     "output_type": "execute_result"
    }
   ],
   "source": [
    "rebound.__version__"
   ]
  },
  {
   "cell_type": "code",
   "execution_count": null,
   "id": "e6257edd-de50-4c07-b3da-3f1c923d6ab1",
   "metadata": {},
   "outputs": [],
   "source": []
  }
 ],
 "metadata": {
  "kernelspec": {
   "display_name": "python3.8v",
   "language": "python",
   "name": "python3.8v"
  },
  "language_info": {
   "codemirror_mode": {
    "name": "ipython",
    "version": 3
   },
   "file_extension": ".py",
   "mimetype": "text/x-python",
   "name": "python",
   "nbconvert_exporter": "python",
   "pygments_lexer": "ipython3",
   "version": "3.8.13"
  }
 },
 "nbformat": 4,
 "nbformat_minor": 5
}
