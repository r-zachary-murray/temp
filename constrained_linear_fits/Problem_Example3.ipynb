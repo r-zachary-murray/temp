{
 "cells": [
  {
   "cell_type": "code",
   "execution_count": 58,
   "id": "8901c87e-ac27-4edb-8adc-e2a1d68a71d5",
   "metadata": {},
   "outputs": [],
   "source": [
    "import numpy as np\n",
    "import matplotlib.pyplot as plt"
   ]
  },
  {
   "cell_type": "code",
   "execution_count": null,
   "id": "dda47c1d-27e6-4607-8a49-923e222e1967",
   "metadata": {},
   "outputs": [],
   "source": []
  },
  {
   "cell_type": "code",
   "execution_count": 59,
   "id": "8051b64a-056f-41ca-a5d0-1a294c7d44bf",
   "metadata": {},
   "outputs": [
    {
     "name": "stdout",
     "output_type": "stream",
     "text": [
      "[-4.12179107e-01 -1.40664082e-01 -5.52301563e-06  1.82898473e-01\n",
      "  4.41810140e-01  7.16237832e-01]\n",
      "[-4.14846251 -3.31607886 -3.57827245 -5.09914559 -8.16904017 -4.40160472]\n"
     ]
    }
   ],
   "source": [
    "x = np.array([-4.12179107e-01, -1.40664082e-01, -5.52301563e-06,  1.82898473e-01,4.41810140e-01,  7.16237832e-01])\n",
    "y = np.array([-4.14846251, -3.31607886, -3.57827245, -5.09914559, -8.16904017,-4.40160472])\n",
    "print(x)\n",
    "print(y)"
   ]
  },
  {
   "cell_type": "code",
   "execution_count": 60,
   "id": "375ed19a-12d6-4f63-baf5-8ded3a25048f",
   "metadata": {},
   "outputs": [],
   "source": [
    "tallest = np.argsort(-y)[:2]"
   ]
  },
  {
   "cell_type": "code",
   "execution_count": 61,
   "id": "ad742400-761f-4ea7-be6c-9eb9501ffd3c",
   "metadata": {},
   "outputs": [
    {
     "data": {
      "text/plain": [
       "<matplotlib.legend.Legend at 0x7efc9de2d5c0>"
      ]
     },
     "execution_count": 61,
     "metadata": {},
     "output_type": "execute_result"
    },
    {
     "data": {
      "image/png": "[encoded data removed]",
      "text/plain": [
       "<Figure size 432x288 with 1 Axes>"
      ]
     },
     "metadata": {},
     "output_type": "display_data"
    }
   ],
   "source": [
    "plt.scatter(x,y)\n",
    "plt.scatter(x[tallest],y[tallest])\n",
    "model1 = np.polyval(np.polyfit(x[tallest],y[tallest],1),x) #make a model running through the highest points\n",
    "plt.plot(x,model1,c='r',label='highest_points') \n",
    "plt.legend()"
   ]
  },
  {
   "cell_type": "code",
   "execution_count": 62,
   "id": "7857d341-691e-4746-9737-4e24a74371c8",
   "metadata": {},
   "outputs": [
    {
     "name": "stdout",
     "output_type": "stream",
     "text": [
      "SSE, polyval 17.637563975006376\n"
     ]
    }
   ],
   "source": [
    "print(\"SSE, polyval\", np.sum((y-model1)**2))"
   ]
  },
  {
   "cell_type": "code",
   "execution_count": null,
   "id": "91dd09ee-13b7-427b-b443-cd0d228e79c2",
   "metadata": {},
   "outputs": [],
   "source": []
  },
  {
   "cell_type": "code",
   "execution_count": null,
   "id": "b3d3536d-8033-462d-a0ae-e37fec3f2ae7",
   "metadata": {},
   "outputs": [],
   "source": []
  },
  {
   "cell_type": "code",
   "execution_count": null,
   "id": "2411c1e9-5a8d-43b3-8f0d-9bbcaa06f081",
   "metadata": {},
   "outputs": [],
   "source": []
  },
  {
   "cell_type": "code",
   "execution_count": null,
   "id": "0e310625-e3b8-4fae-a29a-08d4bfd76848",
   "metadata": {},
   "outputs": [],
   "source": []
  },
  {
   "cell_type": "code",
   "execution_count": null,
   "id": "df5c5e8b-5ec1-49a8-b892-8ab56fb07c9e",
   "metadata": {},
   "outputs": [],
   "source": []
  },
  {
   "cell_type": "code",
   "execution_count": null,
   "id": "df50d9dc-b127-41b2-ab7a-a4ebef523c35",
   "metadata": {},
   "outputs": [],
   "source": []
  }
 ],
 "metadata": {
  "kernelspec": {
   "display_name": "Python 3",
   "language": "python",
   "name": "python3"
  },
  "language_info": {
   "codemirror_mode": {
    "name": "ipython",
    "version": 3
   },
   "file_extension": ".py",
   "mimetype": "text/x-python",
   "name": "python",
   "nbconvert_exporter": "python",
   "pygments_lexer": "ipython3",
   "version": "3.6.9"
  }
 },
 "nbformat": 4,
 "nbformat_minor": 5
}
