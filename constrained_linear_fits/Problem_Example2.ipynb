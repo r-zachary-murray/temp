{
 "cells": [
  {
   "cell_type": "code",
   "execution_count": 1,
   "id": "8901c87e-ac27-4edb-8adc-e2a1d68a71d5",
   "metadata": {},
   "outputs": [
    {
     "name": "stderr",
     "output_type": "stream",
     "text": [
      "In /home/moon/.local/lib/python3.6/site-packages/matplotlib/mpl-data/stylelib/_classic_test.mplstyle: \n",
      "The text.latex.preview rcparam was deprecated in Matplotlib 3.3 and will be removed two minor releases later.\n",
      "In /home/moon/.local/lib/python3.6/site-packages/matplotlib/mpl-data/stylelib/_classic_test.mplstyle: \n",
      "The mathtext.fallback_to_cm rcparam was deprecated in Matplotlib 3.3 and will be removed two minor releases later.\n",
      "In /home/moon/.local/lib/python3.6/site-packages/matplotlib/mpl-data/stylelib/_classic_test.mplstyle: Support for setting the 'mathtext.fallback_to_cm' rcParam is deprecated since 3.3 and will be removed two minor releases later; use 'mathtext.fallback : 'cm' instead.\n",
      "In /home/moon/.local/lib/python3.6/site-packages/matplotlib/mpl-data/stylelib/_classic_test.mplstyle: \n",
      "The validate_bool_maybe_none function was deprecated in Matplotlib 3.3 and will be removed two minor releases later.\n",
      "In /home/moon/.local/lib/python3.6/site-packages/matplotlib/mpl-data/stylelib/_classic_test.mplstyle: \n",
      "The savefig.jpeg_quality rcparam was deprecated in Matplotlib 3.3 and will be removed two minor releases later.\n",
      "In /home/moon/.local/lib/python3.6/site-packages/matplotlib/mpl-data/stylelib/_classic_test.mplstyle: \n",
      "The keymap.all_axes rcparam was deprecated in Matplotlib 3.3 and will be removed two minor releases later.\n",
      "In /home/moon/.local/lib/python3.6/site-packages/matplotlib/mpl-data/stylelib/_classic_test.mplstyle: \n",
      "The animation.avconv_path rcparam was deprecated in Matplotlib 3.3 and will be removed two minor releases later.\n",
      "In /home/moon/.local/lib/python3.6/site-packages/matplotlib/mpl-data/stylelib/_classic_test.mplstyle: \n",
      "The animation.avconv_args rcparam was deprecated in Matplotlib 3.3 and will be removed two minor releases later.\n"
     ]
    }
   ],
   "source": [
    "import numpy as np\n",
    "import matplotlib.pyplot as plt"
   ]
  },
  {
   "cell_type": "code",
   "execution_count": null,
   "id": "dda47c1d-27e6-4607-8a49-923e222e1967",
   "metadata": {},
   "outputs": [],
   "source": []
  },
  {
   "cell_type": "code",
   "execution_count": 2,
   "id": "8051b64a-056f-41ca-a5d0-1a294c7d44bf",
   "metadata": {},
   "outputs": [
    {
     "name": "stdout",
     "output_type": "stream",
     "text": [
      "[1, 2, 3, 4]\n",
      "[2, 1, 0, 2]\n"
     ]
    }
   ],
   "source": [
    "x = [1,2,3,4]\n",
    "y = [2, 1,0, 2]\n",
    "print(x)\n",
    "print(y)"
   ]
  },
  {
   "cell_type": "code",
   "execution_count": 3,
   "id": "ad742400-761f-4ea7-be6c-9eb9501ffd3c",
   "metadata": {},
   "outputs": [
    {
     "data": {
      "text/plain": [
       "<matplotlib.legend.Legend at 0x7f8e266d0d30>"
      ]
     },
     "execution_count": 3,
     "metadata": {},
     "output_type": "execute_result"
    },
    {
     "data": {
      "image/png": "[encoded data removed]",
      "text/plain": [
       "<Figure size 432x288 with 1 Axes>"
      ]
     },
     "metadata": {},
     "output_type": "display_data"
    }
   ],
   "source": [
    "plt.scatter(x,y)\n",
    "coeff = np.polyfit(x,y,1)\n",
    "model1 = np.polyval(coeff,x)\n",
    "model2 = model1 + (y-model1).max()\n",
    "model3 = np.polyval([0,2],x)\n",
    "plt.plot(x,model1,c='r',label='numpy-polyval')\n",
    "plt.plot(x,model2,c='r',ls='--',label='numpy-polyval (displaced)')\n",
    "plt.plot(x,model3,c='g',label='desired-fit') #a rough guess of the dsired result\n",
    "plt.legend()"
   ]
  },
  {
   "cell_type": "code",
   "execution_count": 9,
   "id": "7857d341-691e-4746-9737-4e24a74371c8",
   "metadata": {},
   "outputs": [
    {
     "name": "stdout",
     "output_type": "stream",
     "text": [
      "SSE, model1 2.6999999999999993\n"
     ]
    }
   ],
   "source": [
    "print(\"SSE, polyval\", np.sum((y-model1)**2))"
   ]
  },
  {
   "cell_type": "code",
   "execution_count": 11,
   "id": "91dd09ee-13b7-427b-b443-cd0d228e79c2",
   "metadata": {},
   "outputs": [
    {
     "name": "stdout",
     "output_type": "stream",
     "text": [
      "SSE, polyval-shifted 5.939999999999999\n"
     ]
    }
   ],
   "source": [
    "print(\"SSE, polyval-shifted\", np.sum((y-model2)**2))"
   ]
  },
  {
   "cell_type": "code",
   "execution_count": 12,
   "id": "b3d3536d-8033-462d-a0ae-e37fec3f2ae7",
   "metadata": {},
   "outputs": [
    {
     "name": "stdout",
     "output_type": "stream",
     "text": [
      "SSE, desired 5\n"
     ]
    }
   ],
   "source": [
    "print(\"SSE, desired\", np.sum((y-model3)**2))"
   ]
  },
  {
   "cell_type": "code",
   "execution_count": null,
   "id": "2411c1e9-5a8d-43b3-8f0d-9bbcaa06f081",
   "metadata": {},
   "outputs": [],
   "source": []
  },
  {
   "cell_type": "code",
   "execution_count": null,
   "id": "0e310625-e3b8-4fae-a29a-08d4bfd76848",
   "metadata": {},
   "outputs": [],
   "source": []
  },
  {
   "cell_type": "code",
   "execution_count": null,
   "id": "df5c5e8b-5ec1-49a8-b892-8ab56fb07c9e",
   "metadata": {},
   "outputs": [],
   "source": []
  },
  {
   "cell_type": "code",
   "execution_count": null,
   "id": "df50d9dc-b127-41b2-ab7a-a4ebef523c35",
   "metadata": {},
   "outputs": [],
   "source": []
  }
 ],
 "metadata": {
  "kernelspec": {
   "display_name": "Python 3",
   "language": "python",
   "name": "python3"
  },
  "language_info": {
   "codemirror_mode": {
    "name": "ipython",
    "version": 3
   },
   "file_extension": ".py",
   "mimetype": "text/x-python",
   "name": "python",
   "nbconvert_exporter": "python",
   "pygments_lexer": "ipython3",
   "version": "3.6.9"
  }
 },
 "nbformat": 4,
 "nbformat_minor": 5
}
